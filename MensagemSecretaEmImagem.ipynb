{
  "cells": [
    {
      "cell_type": "markdown",
      "metadata": {
        "id": "view-in-github",
        "colab_type": "text"
      },
      "source": [
        "<a href=\"https://colab.research.google.com/github/LeonardoMF04/PythonInAlgebraLinear./blob/main/MensagemSecretaEmImagem.ipynb\" target=\"_parent\"><img src=\"https://colab.research.google.com/assets/colab-badge.svg\" alt=\"Open In Colab\"/></a>"
      ]
    },
    {
      "cell_type": "code",
      "execution_count": null,
      "metadata": {
        "id": "LwahXPxoBHpu"
      },
      "outputs": [],
      "source": [
        "##Professor, Leandro Cruvinel (Professor UFTM) nos deu um desafio, encontrar a mensagem escrita dentro de uma imagem, ele introduziu uma sequência de números\n",
        "#dentro da imagem, e nos deu como desafio achá-los, tendo a dica que \"A cada 20 linhas e 20colunas\" tinhamos 1 pixel do número e nos deu uma imagem de 4000x6000 pixels.\n",
        "\n",
        "from PIL import Image\n",
        "import numpy as np\n",
        "import matplotlib.pyplot as plt\n",
        "from numpy.core.memmap import ndarray\n",
        "\n",
        "#Lendo o arquivo\n",
        "imagem= Image.open (\"202211138.jpg\")\n",
        "\n",
        "# Abre a imagem\n",
        "imagem = Image.open('202211138.jpg')\n",
        "\n",
        "# Converte a imagem para uma matriz\n",
        "matriz_imagem = numpy.array(imagem)\n",
        "\n",
        "# Extrai cada 20 linhas da matriz da imagem\n",
        "matriz_extrato = matriz_imagem[::20, :]\n",
        "\n",
        "# Extrai cada 20 colunas da matriz do extrato\n",
        "matriz_extrato = matriz_extrato[:, ::20]\n",
        "\n",
        "# Cria uma nova imagem a partir do extrato da matriz\n",
        "imagem_gerada = Image.fromarray(matriz_extrato)\n",
        "\n",
        "# Salva a imagem gerada\n",
        "imagem_gerada.save('caminho/para/a/imagem_gerada.jpg')\n"
      ]
    },
    {
      "cell_type": "code",
      "source": [],
      "metadata": {
        "id": "JDsV7TFONvLr"
      },
      "execution_count": null,
      "outputs": []
    }
  ],
  "metadata": {
    "colab": {
      "provenance": [],
      "authorship_tag": "ABX9TyMH59KnGvg2X6OIhPccyUmN",
      "include_colab_link": true
    },
    "kernelspec": {
      "display_name": "Python 3",
      "name": "python3"
    },
    "language_info": {
      "name": "python"
    }
  },
  "nbformat": 4,
  "nbformat_minor": 0
}